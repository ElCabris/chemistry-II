{
 "cells": [
  {
   "cell_type": "code",
   "execution_count": 2,
   "id": "7764da03-5564-4498-b84b-33e1fbd2b0b2",
   "metadata": {},
   "outputs": [],
   "source": [
    "from atom_optimization import create_molecule, relax_molecule\n",
    "from ase.visualize import view"
   ]
  },
  {
   "cell_type": "code",
   "execution_count": 3,
   "id": "fb9f6ce9-4b48-42cb-84f2-d07d3e154d8a",
   "metadata": {},
   "outputs": [],
   "source": [
    "name = 'CO2'"
   ]
  },
  {
   "cell_type": "code",
   "execution_count": 4,
   "id": "2e599923-c379-4e0c-9a27-cc0fa9633e10",
   "metadata": {},
   "outputs": [
    {
     "name": "stdout",
     "output_type": "stream",
     "text": [
      "Error creating directory 'CO2' : [Errno 17] File exists: 'CO2'\n"
     ]
    }
   ],
   "source": [
    "co2 = create_molecule(name)"
   ]
  },
  {
   "cell_type": "code",
   "execution_count": 5,
   "id": "44aeaae8-9182-4b20-94eb-2e0ef6d23bd9",
   "metadata": {
    "scrolled": true
   },
   "outputs": [
    {
     "data": {
      "text/plain": [
       "<Popen: returncode: None args: ['/home/elcabris/Documents/scientific-computi...>"
      ]
     },
     "execution_count": 5,
     "metadata": {},
     "output_type": "execute_result"
    }
   ],
   "source": [
    "view(co2)"
   ]
  },
  {
   "cell_type": "code",
   "execution_count": 6,
   "id": "6902e328-2ad7-4691-87bd-16bf5c42fb6d",
   "metadata": {},
   "outputs": [
    {
     "name": "stdout",
     "output_type": "stream",
     "text": [
      "Error creating directory 'CO2' : [Errno 17] File exists: 'CO2'\n"
     ]
    }
   ],
   "source": [
    "relax_molecule(co2)"
   ]
  },
  {
   "cell_type": "markdown",
   "id": "66411b7c-d476-40da-8ccc-7800624ea63f",
   "metadata": {},
   "source": [
    "**IMPORTANTE**: el método `get_potential_energy()` devuelve la energía total electrónica de la molécula en su configuración final relajada."
   ]
  },
  {
   "cell_type": "code",
   "execution_count": 7,
   "id": "af0f2294-26d8-4887-ba5f-ee165b9063a7",
   "metadata": {},
   "outputs": [
    {
     "data": {
      "text/plain": [
       "'la energía electrónica final es: -21.299531435629664 eV'"
      ]
     },
     "execution_count": 7,
     "metadata": {},
     "output_type": "execute_result"
    }
   ],
   "source": [
    "f\"la energía electrónica final es: {co2.get_potential_energy()} eV\""
   ]
  }
 ],
 "metadata": {
  "kernelspec": {
   "display_name": "chemistry-2",
   "language": "python",
   "name": "chemistry-2-venv"
  },
  "language_info": {
   "codemirror_mode": {
    "name": "ipython",
    "version": 3
   },
   "file_extension": ".py",
   "mimetype": "text/x-python",
   "name": "python",
   "nbconvert_exporter": "python",
   "pygments_lexer": "ipython3",
   "version": "3.9.21"
  }
 },
 "nbformat": 4,
 "nbformat_minor": 5
}
