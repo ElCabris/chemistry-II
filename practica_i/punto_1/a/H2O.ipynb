{
 "cells": [
  {
   "cell_type": "code",
   "execution_count": 1,
   "id": "40779b4f-3c5a-40ea-bf4a-f16e47814a49",
   "metadata": {},
   "outputs": [],
   "source": [
    "from atom_optimization import create_molecule, relax_molecule\n",
    "from ase.visualize import view"
   ]
  },
  {
   "cell_type": "code",
   "execution_count": 2,
   "id": "f79ea00e-4e10-4115-bf73-f83f6cf8a81e",
   "metadata": {},
   "outputs": [],
   "source": [
    "name = 'H2O'"
   ]
  },
  {
   "cell_type": "code",
   "execution_count": 3,
   "id": "cfe7bc86-69e2-47b4-91b8-477b8a8a8dd4",
   "metadata": {},
   "outputs": [
    {
     "name": "stdout",
     "output_type": "stream",
     "text": [
      "Error creating directory 'H2O' : [Errno 17] File exists: 'H2O'\n"
     ]
    }
   ],
   "source": [
    "h2o = create_molecule(name)"
   ]
  },
  {
   "cell_type": "code",
   "execution_count": 4,
   "id": "4ef0542e-1506-43a3-9429-1c44c606f7c8",
   "metadata": {},
   "outputs": [
    {
     "data": {
      "text/plain": [
       "<Popen: returncode: None args: ['/home/elcabris/Documents/scientific-computi...>"
      ]
     },
     "execution_count": 4,
     "metadata": {},
     "output_type": "execute_result"
    }
   ],
   "source": [
    "view(h2o)"
   ]
  },
  {
   "cell_type": "code",
   "execution_count": 5,
   "id": "c5d99c9c-0bba-42e7-8c55-5b1f691adf1c",
   "metadata": {},
   "outputs": [
    {
     "name": "stdout",
     "output_type": "stream",
     "text": [
      "Error creating directory 'H2O' : [Errno 17] File exists: 'H2O'\n"
     ]
    }
   ],
   "source": [
    "relax_molecule(h2o)"
   ]
  },
  {
   "cell_type": "markdown",
   "id": "39c6ef2a-2a8a-4d73-bb33-0aa96b646a38",
   "metadata": {},
   "source": [
    "**IMPORTANTE**: el método `get_potential_energy()` devuelve la energía total electrónica de la molécula en su configuración final relajada."
   ]
  },
  {
   "cell_type": "code",
   "execution_count": 6,
   "id": "334b86f2-a736-4b5c-a461-b7cae11c545b",
   "metadata": {},
   "outputs": [
    {
     "data": {
      "text/plain": [
       "'la energía electrónica final es: -13.067275839592993 eV'"
      ]
     },
     "execution_count": 6,
     "metadata": {},
     "output_type": "execute_result"
    }
   ],
   "source": [
    "f\"la energía electrónica final es: {h2o.get_potential_energy()} eV\""
   ]
  },
  {
   "cell_type": "code",
   "execution_count": null,
   "id": "611abda2-68e7-49f9-962f-3ee545fe7be4",
   "metadata": {},
   "outputs": [],
   "source": []
  }
 ],
 "metadata": {
  "kernelspec": {
   "display_name": "chemistry-2",
   "language": "python",
   "name": "chemistry-2-venv"
  },
  "language_info": {
   "codemirror_mode": {
    "name": "ipython",
    "version": 3
   },
   "file_extension": ".py",
   "mimetype": "text/x-python",
   "name": "python",
   "nbconvert_exporter": "python",
   "pygments_lexer": "ipython3",
   "version": "3.9.21"
  }
 },
 "nbformat": 4,
 "nbformat_minor": 5
}
