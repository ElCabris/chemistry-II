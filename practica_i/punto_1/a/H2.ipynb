{
 "cells": [
  {
   "cell_type": "markdown",
   "id": "07d9831f-677e-4593-abcb-d4ebffdef68d",
   "metadata": {},
   "source": [
    "**RECOMENDACIÓN**: Para entender lo que hace este códgio, por favor leer primero los comentarios del archivo `./ atoms_optimization.py`\n",
    "\n",
    "- Se importan las funciones para crear la molecula y el método de relajación\n",
    "- Se importa `view` para la visualización"
   ]
  },
  {
   "cell_type": "code",
   "execution_count": 1,
   "id": "40779b4f-3c5a-40ea-bf4a-f16e47814a49",
   "metadata": {},
   "outputs": [],
   "source": [
    "from atom_optimization import create_molecule, relax_molecule\n",
    "from ase.visualize import view"
   ]
  },
  {
   "cell_type": "code",
   "execution_count": 2,
   "id": "74c8b88c-9771-4586-a84e-5a72dca87647",
   "metadata": {},
   "outputs": [],
   "source": [
    "name = 'H2' # nombre de la molecula"
   ]
  },
  {
   "cell_type": "code",
   "execution_count": 3,
   "id": "cfe7bc86-69e2-47b4-91b8-477b8a8a8dd4",
   "metadata": {},
   "outputs": [
    {
     "name": "stdout",
     "output_type": "stream",
     "text": [
      "Error creating directory 'H2' : [Errno 17] File exists: 'H2'\n"
     ]
    }
   ],
   "source": [
    "h2 = create_molecule(name) # creación de la molecula junto con el calulador"
   ]
  },
  {
   "cell_type": "code",
   "execution_count": 4,
   "id": "4ef0542e-1506-43a3-9429-1c44c606f7c8",
   "metadata": {},
   "outputs": [
    {
     "data": {
      "text/plain": [
       "<Popen: returncode: None args: ['/home/elcabris/Documents/scientific-computi...>"
      ]
     },
     "execution_count": 4,
     "metadata": {},
     "output_type": "execute_result"
    }
   ],
   "source": [
    "view(h2)"
   ]
  },
  {
   "cell_type": "code",
   "execution_count": 5,
   "id": "8691c769-ada8-43d7-b857-e6d447a6ec2e",
   "metadata": {},
   "outputs": [
    {
     "name": "stdout",
     "output_type": "stream",
     "text": [
      "Error creating directory 'H2' : [Errno 17] File exists: 'H2'\n"
     ]
    }
   ],
   "source": [
    "relax_molecule(h2) # aplicar la relajación"
   ]
  },
  {
   "cell_type": "markdown",
   "id": "89960ff2-6537-462f-8d94-47e2e7047e75",
   "metadata": {},
   "source": [
    "**IMPORTANTE**: el método `get_potential_energy()` devuelve la energía total electrónica de la molécula en su configuración final relajada."
   ]
  },
  {
   "cell_type": "code",
   "execution_count": 6,
   "id": "1da80d44-b819-413f-8eda-791bd5875f12",
   "metadata": {},
   "outputs": [
    {
     "data": {
      "text/plain": [
       "'la energía electrónica final es: -6.483405984892882 eV'"
      ]
     },
     "execution_count": 6,
     "metadata": {},
     "output_type": "execute_result"
    }
   ],
   "source": [
    "f\"la energía electrónica final es: {h2.get_potential_energy()} eV\""
   ]
  }
 ],
 "metadata": {
  "kernelspec": {
   "display_name": "chemistry-2",
   "language": "python",
   "name": "chemistry-2-venv"
  },
  "language_info": {
   "codemirror_mode": {
    "name": "ipython",
    "version": 3
   },
   "file_extension": ".py",
   "mimetype": "text/x-python",
   "name": "python",
   "nbconvert_exporter": "python",
   "pygments_lexer": "ipython3",
   "version": "3.9.21"
  }
 },
 "nbformat": 4,
 "nbformat_minor": 5
}
