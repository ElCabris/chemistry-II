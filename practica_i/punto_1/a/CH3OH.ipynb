{
 "cells": [
  {
   "cell_type": "code",
   "execution_count": 1,
   "id": "40779b4f-3c5a-40ea-bf4a-f16e47814a49",
   "metadata": {},
   "outputs": [],
   "source": [
    "from atom_optimization import create_molecule, relax_molecule \n",
    "from ase.visualize import view"
   ]
  },
  {
   "cell_type": "code",
   "execution_count": 2,
   "id": "17ec7528-e22a-4070-9041-2244a19132ff",
   "metadata": {},
   "outputs": [],
   "source": [
    "name = 'CH3OH'"
   ]
  },
  {
   "cell_type": "code",
   "execution_count": 3,
   "id": "cfe7bc86-69e2-47b4-91b8-477b8a8a8dd4",
   "metadata": {},
   "outputs": [
    {
     "name": "stdout",
     "output_type": "stream",
     "text": [
      "Error creating directory 'CH4O' : [Errno 17] File exists: 'CH4O'\n"
     ]
    }
   ],
   "source": [
    "ch3oh = create_molecule(name)"
   ]
  },
  {
   "cell_type": "code",
   "execution_count": 4,
   "id": "4ef0542e-1506-43a3-9429-1c44c606f7c8",
   "metadata": {},
   "outputs": [
    {
     "data": {
      "text/plain": [
       "<Popen: returncode: None args: ['/home/elcabris/Documents/scientific-computi...>"
      ]
     },
     "execution_count": 4,
     "metadata": {},
     "output_type": "execute_result"
    }
   ],
   "source": [
    "view(ch3oh)"
   ]
  },
  {
   "cell_type": "code",
   "execution_count": 5,
   "id": "c5d99c9c-0bba-42e7-8c55-5b1f691adf1c",
   "metadata": {},
   "outputs": [
    {
     "name": "stdout",
     "output_type": "stream",
     "text": [
      "Error creating directory 'CH4O' : [Errno 17] File exists: 'CH4O'\n"
     ]
    }
   ],
   "source": [
    "relax_molecule(ch3oh)"
   ]
  },
  {
   "cell_type": "markdown",
   "id": "7d9541be-15c5-40be-83ba-f99c5ae4d1c9",
   "metadata": {},
   "source": [
    "**IMPORTANTE**: el método `get_potential_energy()` devuelve la energía total electrónica de la molécula en su configuración final relajada."
   ]
  },
  {
   "cell_type": "code",
   "execution_count": 8,
   "id": "6c682b0b-255c-4db2-b983-b085950935f8",
   "metadata": {},
   "outputs": [
    {
     "data": {
      "text/plain": [
       "'la energía electrónica final es: -28.79593889842513 eV'"
      ]
     },
     "execution_count": 8,
     "metadata": {},
     "output_type": "execute_result"
    }
   ],
   "source": [
    "f\"la energía electrónica final es: {ch3oh.get_potential_energy()} eV\""
   ]
  },
  {
   "cell_type": "code",
   "execution_count": null,
   "id": "3415e1ed-e677-40c7-997a-a5fdd08722b5",
   "metadata": {},
   "outputs": [],
   "source": []
  }
 ],
 "metadata": {
  "kernelspec": {
   "display_name": "chemistry-2",
   "language": "python",
   "name": "chemistry-2-venv"
  },
  "language_info": {
   "codemirror_mode": {
    "name": "ipython",
    "version": 3
   },
   "file_extension": ".py",
   "mimetype": "text/x-python",
   "name": "python",
   "nbconvert_exporter": "python",
   "pygments_lexer": "ipython3",
   "version": "3.9.21"
  }
 },
 "nbformat": 4,
 "nbformat_minor": 5
}
