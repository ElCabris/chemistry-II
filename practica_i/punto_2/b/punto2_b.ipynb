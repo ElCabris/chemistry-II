{
 "cells": [
  {
   "cell_type": "markdown",
   "id": "ce54d7d3-eefa-446b-9346-68fdb4c5175e",
   "metadata": {},
   "source": [
    "$$\n",
    "CO_2 + 3H_2 \\rightarrow CH_3OH + H_2O\n",
    "$$"
   ]
  },
  {
   "cell_type": "code",
   "execution_count": 1,
   "id": "3fb856ef-7e74-45f8-ba4a-ffcac9208599",
   "metadata": {},
   "outputs": [],
   "source": [
    "from atom_optimization import create_molecule, relax_molecule\n",
    "from ase import Atoms"
   ]
  },
  {
   "cell_type": "code",
   "execution_count": 2,
   "id": "abfb99cf-4a5f-4792-bc34-7f93617a9c6e",
   "metadata": {},
   "outputs": [],
   "source": [
    "names: list[str] = ['CO2', 'H2', 'CH3OH', 'H2O']\n",
    "molecules: list[Atoms] = []"
   ]
  },
  {
   "cell_type": "code",
   "execution_count": 3,
   "id": "bf629588-ea70-43c7-b218-dbd604237fd4",
   "metadata": {},
   "outputs": [
    {
     "name": "stdout",
     "output_type": "stream",
     "text": [
      "directory CO2 is ready\n",
      "Error creating directory 'CO2' : [Errno 17] File exists: 'CO2'\n",
      "directory H2 is ready\n",
      "Error creating directory 'H2' : [Errno 17] File exists: 'H2'\n",
      "directory CH4O is ready\n",
      "Error creating directory 'CH4O' : [Errno 17] File exists: 'CH4O'\n",
      "directory H2O is ready\n",
      "Error creating directory 'H2O' : [Errno 17] File exists: 'H2O'\n"
     ]
    }
   ],
   "source": [
    "for name in names:\n",
    "    molecules.append(create_molecule(name))\n",
    "    relax_molecule(molecules[-1])"
   ]
  },
  {
   "cell_type": "markdown",
   "id": "6865de36-b6da-4784-a986-e65bfc8f2c68",
   "metadata": {},
   "source": [
    "Para calcular el $\\Delta E$ se tiene la siguiente formula:\n",
    "$$\n",
    "\\Delta E = E_{producto} - E_{reactivo}\n",
    "$$"
   ]
  },
  {
   "cell_type": "code",
   "execution_count": 4,
   "id": "07ac91f6-7337-4819-907a-a35a5ff925ce",
   "metadata": {},
   "outputs": [
    {
     "data": {
      "text/plain": [
       "np.float64(-41.86321473801812)"
      ]
     },
     "execution_count": 4,
     "metadata": {},
     "output_type": "execute_result"
    }
   ],
   "source": [
    "e_producto = molecules[2].get_total_energy() + molecules[3].get_total_energy()\n",
    "e_producto"
   ]
  },
  {
   "cell_type": "code",
   "execution_count": 5,
   "id": "6c99c8ea-dff4-405b-a151-9c5b01983705",
   "metadata": {},
   "outputs": [
    {
     "data": {
      "text/plain": [
       "np.float64(-40.74974939030831)"
      ]
     },
     "execution_count": 5,
     "metadata": {},
     "output_type": "execute_result"
    }
   ],
   "source": [
    "e_reactivo = molecules[0].get_total_energy() + (3 * molecules[1].get_total_energy())\n",
    "e_reactivo"
   ]
  },
  {
   "cell_type": "code",
   "execution_count": 6,
   "id": "af1a172e-b816-4df1-9988-ec4e8dccf292",
   "metadata": {},
   "outputs": [
    {
     "data": {
      "text/plain": [
       "np.float64(-1.1134653477098126)"
      ]
     },
     "execution_count": 6,
     "metadata": {},
     "output_type": "execute_result"
    }
   ],
   "source": [
    "delta_e = e_producto - e_reactivo\n",
    "delta_e"
   ]
  },
  {
   "cell_type": "markdown",
   "id": "ef3ce4d0-db76-41f5-9506-5b27df03a751",
   "metadata": {},
   "source": [
    "Como el $\\Delta E$ es menor a 0 significa que la reacción es exotérmica, es decir que libera al entorno. (No garantiza que sea expontánea)."
   ]
  }
 ],
 "metadata": {
  "kernelspec": {
   "display_name": "chemistry-2",
   "language": "python",
   "name": "chemistry-2-venv"
  },
  "language_info": {
   "codemirror_mode": {
    "name": "ipython",
    "version": 3
   },
   "file_extension": ".py",
   "mimetype": "text/x-python",
   "name": "python",
   "nbconvert_exporter": "python",
   "pygments_lexer": "ipython3",
   "version": "3.9.21"
  }
 },
 "nbformat": 4,
 "nbformat_minor": 5
}
