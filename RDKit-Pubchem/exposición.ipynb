{
 "cells": [
  {
   "cell_type": "markdown",
   "id": "7526288f-19d9-4ca2-a12f-df5fd33a091e",
   "metadata": {},
   "source": [
    "# Herramientas Computacionales en Química Orgánica: Explorando Estructuras, Propiedades y Búsquedas con RDKit y PubChem"
   ]
  },
  {
   "cell_type": "markdown",
   "id": "2b8af86b-c15b-43f7-a6b6-60858d31ef3f",
   "metadata": {},
   "source": [
    "## Introducción\n",
    "### Motivación\n",
    "- ¿Por qué usar herramientas computacionales en química orgánica?\n",
    "- Ejemplo de aplicaciones: diseño de fármacos, predicción de propiedades, minería de datos químicos\n",
    "### Breve descripción de RDKit y PubChem\n",
    "- **RDKit**: Biblioteca de código abierto para quimioinformática (manipulación de moléculas, descriptores, fingerprints).\n",
    "- **PubChem**: Base de datos pública de moléculas y sus propiedades (más de 100 millones de compuestos)."
   ]
  },
  {
   "cell_type": "markdown",
   "id": "f632112c-63c4-402d-ad53-9dd2311ecff5",
   "metadata": {},
   "source": [
    "## PubChem + PubChemPy: Minería de Datos Químicos"
   ]
  },
  {
   "cell_type": "code",
   "execution_count": 98,
   "id": "1d2a1532-04dd-45e5-bb6c-d7739e404e83",
   "metadata": {},
   "outputs": [],
   "source": [
    "import pubchempy as pcp"
   ]
  },
  {
   "cell_type": "markdown",
   "id": "123c3b49-3d6e-4d8a-8060-b93a06a7a11d",
   "metadata": {},
   "source": [
    "### Busqueda básica: Obteniendo datos de un Compuesto"
   ]
  },
  {
   "cell_type": "markdown",
   "id": "67a15b50-a446-4beb-bc17-855014151d18",
   "metadata": {},
   "source": [
    "#### Ejemplo 1: Aspirina (CID 2244)"
   ]
  },
  {
   "cell_type": "code",
   "execution_count": 2,
   "id": "b1c63427-6935-47d9-a412-b992698cc6a5",
   "metadata": {},
   "outputs": [],
   "source": [
    "aspirin = pcp.Compound.from_cid(2244)"
   ]
  },
  {
   "cell_type": "code",
   "execution_count": 3,
   "id": "8772ab02-538e-4478-b421-584102e1e49f",
   "metadata": {},
   "outputs": [
    {
     "name": "stdout",
     "output_type": "stream",
     "text": [
      "Nombre: 2-acetyloxybenzoic acid\n",
      "Fórmula molecular: C9H8O4\n",
      "Masa molar: 180.16 g/mol\n"
     ]
    }
   ],
   "source": [
    "print(f\"Nombre: {aspirin.iupac_name}\")\n",
    "print(f\"Fórmula molecular: {aspirin.molecular_formula}\")\n",
    "print(f\"Masa molar: {aspirin.molecular_weight} g/mol\")"
   ]
  },
  {
   "cell_type": "markdown",
   "id": "8d9d0ff4-ea3e-4b2b-b0d3-0dd03089acb1",
   "metadata": {},
   "source": [
    "#### Búsqueda por Nombre o SMILES"
   ]
  },
  {
   "cell_type": "code",
   "execution_count": 64,
   "id": "c7756565-e9fe-4ade-be9a-446440583b5d",
   "metadata": {},
   "outputs": [],
   "source": [
    "caffeine = pcp.get_compounds('caffeine', 'name')[0]"
   ]
  },
  {
   "cell_type": "code",
   "execution_count": 8,
   "id": "068ca882-ef90-42bd-bea1-5306370b0b8c",
   "metadata": {},
   "outputs": [
    {
     "name": "stdout",
     "output_type": "stream",
     "text": [
      "CID de la cafeína: 2519\n"
     ]
    }
   ],
   "source": [
    "print(f\"CID de la cafeína: {caffeine.cid}\")"
   ]
  },
  {
   "cell_type": "code",
   "execution_count": 24,
   "id": "b580e8a2-c428-4b35-8ffc-858540050356",
   "metadata": {},
   "outputs": [],
   "source": [
    "ethanol = pcp.get_compounds('CCO', 'smiles')[0]"
   ]
  },
  {
   "cell_type": "code",
   "execution_count": 25,
   "id": "0eeec6f8-99a2-4702-bd56-3c080d50b3e0",
   "metadata": {},
   "outputs": [
    {
     "name": "stdout",
     "output_type": "stream",
     "text": [
      "Nombre del SMILES CCO: ethanol\n"
     ]
    }
   ],
   "source": [
    "print(f\"Nombre del SMILES CCO: {ethanol.iupac_name}\")"
   ]
  },
  {
   "cell_type": "markdown",
   "id": "8ab9ab0a-b773-43d6-ae54-f15ccad14387",
   "metadata": {},
   "source": [
    "### Exportar Datos para Análisis en RDKit"
   ]
  },
  {
   "cell_type": "code",
   "execution_count": 67,
   "id": "7a59a683-0699-48be-ab47-ab8ac423ea09",
   "metadata": {},
   "outputs": [],
   "source": [
    "pcp.download('SDF', 'caffeine.sdf', [caffeine.cid], 'cid')"
   ]
  },
  {
   "cell_type": "markdown",
   "id": "71bb56fa-5486-42d5-9086-b5bbd16c4633",
   "metadata": {},
   "source": [
    "## RDKit: Análisis Computacional de Moléculas"
   ]
  },
  {
   "cell_type": "code",
   "execution_count": 109,
   "id": "37c177a3-08eb-43c4-a393-d8edd6fcf973",
   "metadata": {},
   "outputs": [],
   "source": [
    "from rdkit import Chem\n",
    "from rdkit import DataStructs\n",
    "from rdkit.Chem import Draw, Descriptors, rdFingerprintGenerator\n",
    "from rdkit.Chem.Draw import IPythonConsole"
   ]
  },
  {
   "cell_type": "markdown",
   "id": "455da0a6-6a4e-462f-a259-122c76c1b72e",
   "metadata": {},
   "source": [
    "### Cargar y Visualizar Moléculas"
   ]
  },
  {
   "cell_type": "markdown",
   "id": "65f421a0-d2be-4c7d-8bb6-bc287a809d77",
   "metadata": {},
   "source": [
    "#### Desde SMILES"
   ]
  },
  {
   "cell_type": "code",
   "execution_count": 69,
   "id": "eb502e2e-04e5-402d-81b7-da274bce5b3d",
   "metadata": {},
   "outputs": [],
   "source": [
    "ethanol = Chem.MolFromSmiles('CCO')\n",
    "benzoic_acid = Chem.MolFromSmiles('c1ccccc1C(=O)O')"
   ]
  },
  {
   "cell_type": "code",
   "execution_count": 70,
   "id": "f421bd4f-4263-409d-a0bd-176c2b3654ac",
   "metadata": {},
   "outputs": [
    {
     "data": {
      "image/png": "[encoded data removed]",
      "text/plain": [
       "<IPython.core.display.Image object>"
      ]
     },
     "execution_count": 70,
     "metadata": {},
     "output_type": "execute_result"
    }
   ],
   "source": [
    "Draw.MolsToGridImage([ethanol, benzoic_acid], legends=['Etanol', 'Acido benzoico'])"
   ]
  },
  {
   "cell_type": "markdown",
   "id": "4fb4985f-5ee5-49e1-a66f-59ac41c9af3a",
   "metadata": {},
   "source": [
    "|molecula|grupo funcional|\n",
    "|---|---|\n",
    "|Etanol|Alcohol|\n",
    "|Cido benzoico| ácidos carboxílicos|"
   ]
  },
  {
   "cell_type": "markdown",
   "id": "61a1d99c-99d0-42f6-b8ca-1e76d4ba33a5",
   "metadata": {},
   "source": [
    "#### Desde archivos SDF (cargados desde PubChem)"
   ]
  },
  {
   "cell_type": "code",
   "execution_count": 72,
   "id": "72f5b8fb-289b-405a-8b7e-e49470901306",
   "metadata": {},
   "outputs": [],
   "source": [
    "mols = Chem.SDMolSupplier('caffeine.sdf')"
   ]
  },
  {
   "cell_type": "code",
   "execution_count": 73,
   "id": "300c9339-e177-4403-b45f-87a9c635f50d",
   "metadata": {},
   "outputs": [
    {
     "data": {
      "text/plain": [
       "<rdkit.Chem.rdmolfiles.SDMolSupplier at 0x151b369c11d0>"
      ]
     },
     "execution_count": 73,
     "metadata": {},
     "output_type": "execute_result"
    }
   ],
   "source": [
    "mols"
   ]
  },
  {
   "cell_type": "code",
   "execution_count": 76,
   "id": "1b5a7836-85e8-4851-88b2-7aca41ef94ec",
   "metadata": {},
   "outputs": [
    {
     "data": {
      "image/png": "[encoded data removed]",
      "text/plain": [
       "<IPython.core.display.Image object>"
      ]
     },
     "execution_count": 76,
     "metadata": {},
     "output_type": "execute_result"
    }
   ],
   "source": [
    "Draw.MolsToGridImage(mols, legends=[f\"element {i}\" for i in range(len(mols))])"
   ]
  },
  {
   "cell_type": "markdown",
   "id": "d1054dfc-90a9-4544-86e4-6def958314e8",
   "metadata": {},
   "source": [
    "`atoms.get_chemical_formula()`"
   ]
  },
  {
   "cell_type": "code",
   "execution_count": 78,
   "id": "f8ae9c11-6e54-47a5-9734-51a9f36fe592",
   "metadata": {},
   "outputs": [
    {
     "name": "stdout",
     "output_type": "stream",
     "text": [
      "Nombre: Cn1c(=O)c2c(ncn2C)n(C)c1=O\n",
      "Masa molar: 194.19 g/mol\n",
      "LogP: -1.03\n",
      "Número de donores de H: 0\n",
      "Anillos aromáticos: 2\n"
     ]
    }
   ],
   "source": [
    "def print_descriptors(mol):\n",
    "    print(f\"Nombre: {Chem.MolToSmiles(mol)}\")\n",
    "    print(f\"Masa molar: {Descriptors.MolWt(mol):.2f} g/mol\")\n",
    "    print(f\"LogP: {Descriptors.MolLogP(mol):.2f}\")\n",
    "    print(f\"Número de donores de H: {Descriptors.NumHDonors(mol)}\")\n",
    "    print(f\"Anillos aromáticos: {Descriptors.NumAromaticRings(mol)}\")\n",
    "\n",
    "# Ejemplo con cafeína\n",
    "caffeine = mols[0]\n",
    "print_descriptors(caffeine)"
   ]
  },
  {
   "cell_type": "markdown",
   "id": "bc660ac9-3050-4762-b321-afdd2be779e2",
   "metadata": {},
   "source": [
    "Aplicación a la química orgánica: Comparación de dos alcoholes"
   ]
  },
  {
   "cell_type": "markdown",
   "id": "dff879f1-1a69-4e24-8a9a-bb9471e3b84c",
   "metadata": {},
   "source": [
    "> en palabras coloquiales, el LogP es una medida de qué tanto \"prefiere\" una molécula estar en grasa (aceite) o en agua"
   ]
  },
  {
   "cell_type": "code",
   "execution_count": 79,
   "id": "b561cbd4-ea2f-4d0d-a174-8473be3f3b39",
   "metadata": {},
   "outputs": [
    {
     "name": "stdout",
     "output_type": "stream",
     "text": [
      "Nombre: CC(C)O\n",
      "Masa molar: 60.10 g/mol\n",
      "LogP: 0.39\n",
      "Número de donores de H: 1\n",
      "Anillos aromáticos: 0\n",
      "Nombre: CC(C)(C)O\n",
      "Masa molar: 74.12 g/mol\n",
      "LogP: 0.78\n",
      "Número de donores de H: 1\n",
      "Anillos aromáticos: 0\n"
     ]
    }
   ],
   "source": [
    "isopropanol = Chem.MolFromSmiles('CC(O)C')\n",
    "tert_butanol = Chem.MolFromSmiles('CC(C)(C)O')\n",
    "print_descriptors(isopropanol)\n",
    "print_descriptors(tert_butanol)"
   ]
  },
  {
   "cell_type": "markdown",
   "id": "a1d581d5-7728-45b9-9e97-296bbacdb26e",
   "metadata": {},
   "source": [
    "### Compara moleculas (alcanos y alquenos)"
   ]
  },
  {
   "cell_type": "code",
   "execution_count": 82,
   "id": "56a734a8-d3d2-46c1-a5cf-4ed50e0d0659",
   "metadata": {},
   "outputs": [],
   "source": [
    "hexane = Chem.MolFromSmiles('CCCCCC')         # hexano\n",
    "hex_1_ene = Chem.MolFromSmiles('C=CCCCC')        # hex-1-eno\n",
    "cyclohexene = Chem.MolFromSmiles('C1=CCCCC1')    # ciclohexeno"
   ]
  },
  {
   "cell_type": "markdown",
   "id": "b77d1e41-2c96-4bac-9480-6242442fc3a6",
   "metadata": {},
   "source": [
    "#### Visualización y Descriptores Clave"
   ]
  },
  {
   "cell_type": "code",
   "execution_count": 83,
   "id": "2d9b3b71-ab68-4c03-8da2-fa7755279a80",
   "metadata": {},
   "outputs": [
    {
     "data": {
      "image/png": "[encoded data removed]",
      "text/plain": [
       "<IPython.core.display.Image object>"
      ]
     },
     "execution_count": 83,
     "metadata": {},
     "output_type": "execute_result"
    }
   ],
   "source": [
    "Draw.MolsToGridImage(\n",
    "    [hexane, hex_1_ene, cyclohexene],\n",
    "    legends=['Hexano', 'Hex-1-eno', 'Ciclohexeno'],\n",
    "    subImgSize=(300, 200)\n",
    ")"
   ]
  },
  {
   "cell_type": "code",
   "execution_count": 90,
   "id": "7e1fb113-d70d-4e6b-984d-8f98e8cf98d4",
   "metadata": {},
   "outputs": [],
   "source": [
    "def count_double_bonds(mol):\n",
    "    return sum(1 for bond in mol.GetBonds() if bond.GetBondType() == Chem.BondType.DOUBLE) # sum(list[int])"
   ]
  },
  {
   "cell_type": "code",
   "execution_count": 89,
   "id": "4302361d-6659-4812-b985-78287ce1fe2f",
   "metadata": {},
   "outputs": [],
   "source": [
    "def print_alkane_alkene_props(mol, name):\n",
    "    print(f\"\\n--- {name} ---\")\n",
    "    print(f\"SMILES: {Chem.MolToSmiles(mol)}\")\n",
    "    print(f\"Masa molar: {Descriptors.MolWt(mol):.2f} g/mol\")\n",
    "    print(f\"LogP: {Descriptors.MolLogP(mol):.2f}\")\n",
    "    print(f\"Átomos de carbono: {mol.GetNumAtoms(onlyExplicit=True)}\")\n",
    "    print(f\"Enlaces dobles: {count_double_bonds(mol)}\")"
   ]
  },
  {
   "cell_type": "code",
   "execution_count": 91,
   "id": "2dc6fbc1-2c00-4eef-9586-96c6b8523f18",
   "metadata": {},
   "outputs": [
    {
     "name": "stdout",
     "output_type": "stream",
     "text": [
      "\n",
      "--- Hexano ---\n",
      "SMILES: CCCCCC\n",
      "Masa molar: 86.18 g/mol\n",
      "LogP: 2.59\n",
      "Átomos de carbono: 6\n",
      "Enlaces dobles: 0\n",
      "\n",
      "--- Hex-1-eno ---\n",
      "SMILES: C=CCCCC\n",
      "Masa molar: 84.16 g/mol\n",
      "LogP: 2.36\n",
      "Átomos de carbono: 6\n",
      "Enlaces dobles: 1\n",
      "\n",
      "--- Ciclohexeno ---\n",
      "SMILES: C1=CCCCC1\n",
      "Masa molar: 82.15 g/mol\n",
      "LogP: 2.12\n",
      "Átomos de carbono: 6\n",
      "Enlaces dobles: 1\n"
     ]
    }
   ],
   "source": [
    "print_alkane_alkene_props(hexane, \"Hexano\")\n",
    "print_alkane_alkene_props(hex_1_ene, \"Hex-1-eno\")\n",
    "print_alkane_alkene_props(cyclohexene, \"Ciclohexeno\")"
   ]
  },
  {
   "cell_type": "markdown",
   "id": "60d90571-2520-4bab-a570-9e20f33f7b09",
   "metadata": {},
   "source": [
    "#### Búsqueda de Subestructuras\n",
    "Identificar enlaces dobles (alquenos) y grupos metilo"
   ]
  },
  {
   "cell_type": "code",
   "execution_count": 92,
   "id": "7fa959db-b816-4396-9799-850c1054fa40",
   "metadata": {},
   "outputs": [],
   "source": [
    "double_bond = Chem.MolFromSmarts('C=C')  # Enlace doble\n",
    "methyl_group = Chem.MolFromSmarts('[CH3]')  # Grupo metilo"
   ]
  },
  {
   "cell_type": "code",
   "execution_count": 93,
   "id": "18d2b7b6-cfba-4143-a241-5df1ecf08f76",
   "metadata": {},
   "outputs": [
    {
     "name": "stdout",
     "output_type": "stream",
     "text": [
      "\n",
      "En ciclohexeno:\n",
      "¿Tiene enlace doble? True\n",
      "¿Tiene grupos metilo? False\n"
     ]
    }
   ],
   "source": [
    "# Buscar en ciclohexeno\n",
    "print(\"\\nEn ciclohexeno:\")\n",
    "print(f\"¿Tiene enlace doble? {cyclohexene.HasSubstructMatch(double_bond)}\")\n",
    "print(f\"¿Tiene grupos metilo? {cyclohexene.HasSubstructMatch(methyl_group)}\")"
   ]
  },
  {
   "cell_type": "code",
   "execution_count": 112,
   "id": "5fd175ab-80d6-4f7b-8067-8c9c485d4104",
   "metadata": {},
   "outputs": [
    {
     "name": "stdout",
     "output_type": "stream",
     "text": [
      "Hex-1-eno tiene 1 enlace(s) doble(s).\n"
     ]
    }
   ],
   "source": [
    "# Contar enlaces dobles en hex-1-eno\n",
    "matches = hex_1_ene.GetSubstructMatches(double_bond)\n",
    "print(f\"Hex-1-eno tiene {len(matches)} enlace(s) doble(s).\") # .size()"
   ]
  },
  {
   "cell_type": "markdown",
   "id": "4b82d776-6077-4535-a3f4-83e82f22a96b",
   "metadata": {},
   "source": [
    "### Los fingerprints\n",
    "los fingerprints (o \"huellas dactilares moleculares\") son representaciones numéricas compactas de la esctructura de una molécula"
   ]
  },
  {
   "cell_type": "code",
   "execution_count": 106,
   "id": "c2107966-f82c-4b22-801f-ccca05aec2b5",
   "metadata": {},
   "outputs": [],
   "source": [
    "generator = rdFingerprintGenerator.GetMorganGenerator(radius=2, fpSize=1024) #2^n"
   ]
  },
  {
   "cell_type": "markdown",
   "id": "768860e2-2aad-40b6-9a44-0dc019ecd939",
   "metadata": {},
   "source": [
    "- `radius` analiza que tan lejos se analiza alrededor de cada átomo\n",
    "- `fpSize` define el tamaño del vector binario que reprsenta la molécula"
   ]
  },
  {
   "cell_type": "code",
   "execution_count": 107,
   "id": "c1e4dedf-5713-4b27-aa8a-f61b1ee9df7b",
   "metadata": {},
   "outputs": [],
   "source": [
    "fp_hexane = generator.GetCountFingerprint(hexane)\n",
    "fp_hexene = generator.GetCountFingerprint(hex_1_ene)"
   ]
  },
  {
   "cell_type": "code",
   "execution_count": 110,
   "id": "7914507a-9db4-48d0-a415-9b65b4b917a2",
   "metadata": {},
   "outputs": [],
   "source": [
    "sim = DataStructs.TanimotoSimilarity(fp_hexane, fp_hexene)"
   ]
  },
  {
   "cell_type": "code",
   "execution_count": 111,
   "id": "10eec229-20f6-45ae-a2c9-2ba6cf491aac",
   "metadata": {},
   "outputs": [
    {
     "name": "stdout",
     "output_type": "stream",
     "text": [
      "Similitud hexano-hexeno: 0.33\n"
     ]
    }
   ],
   "source": [
    "print(f\"Similitud hexano-hexeno: {sim:.2f}\") "
   ]
  },
  {
   "cell_type": "markdown",
   "id": "ac7fc23a-40a7-4dae-959a-440994fbb297",
   "metadata": {},
   "source": [
    "Interpretación:\n",
    "\n",
    "    Valores altos (>0.85): Moléculas muy similares (ej: análogos estructurales).\n",
    "\n",
    "    Valores medios (0.5-0.7): Comparten algunos rasgos (ej: misma cadena carbonada pero diferente grupo funcional)."
   ]
  },
  {
   "cell_type": "markdown",
   "id": "e67b8ef1-69b1-420d-bc7c-f872fddaedaf",
   "metadata": {},
   "source": [
    "Ventajas de los Fingerprints\n",
    "\n",
    "    Eficiencia: Comparar miles de moléculas en segundos.\n",
    "\n",
    "    Interpretabilidad: Bits pueden mapearse a subestructuras químicas.\n",
    "\n",
    "    Versatilidad: Compatibles con algoritmos de IA y análisis estadístico."
   ]
  }
 ],
 "metadata": {
  "kernelspec": {
   "display_name": "chemistry-2",
   "language": "python",
   "name": "chemistry-2-venv"
  },
  "language_info": {
   "codemirror_mode": {
    "name": "ipython",
    "version": 3
   },
   "file_extension": ".py",
   "mimetype": "text/x-python",
   "name": "python",
   "nbconvert_exporter": "python",
   "pygments_lexer": "ipython3",
   "version": "3.9.21"
  }
 },
 "nbformat": 4,
 "nbformat_minor": 5
}
