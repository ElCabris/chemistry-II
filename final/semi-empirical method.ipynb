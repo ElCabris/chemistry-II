{
 "cells": [
  {
   "cell_type": "markdown",
   "id": "0e346ee1-810f-4932-831d-b493640d7477",
   "metadata": {},
   "source": [
    "|Compuesto|CID|Usos del compuesto|\n",
    "|---|---|---|\n",
    "|Metano ($CH_4$)|297|Es el componente principal del **gas natural**. Lo utilizamos en nuestros hogares para cocinar en estufas, calentar agua y calefacción.|\n",
    "|Etanol ($CH_3CH_2OH$)|702|Comúnmente conocido como **alcohol etilico**. Lo encontramos en: bebidas alcohólicas, desinfectantes, perfumes y productos de cuidado personal|\n",
    "|Ácido Acético ($CH_3COOH$)|176|Es el principal componente del **vinagre**. Lo usamos en la cocina para: aderezar ensaladas, encurtir alimentos.|\n",
    "|Agua ($H_2O$)|962||\n",
    "|Amoníaco ($NH_3$)|222||"
   ]
  },
  {
   "cell_type": "code",
   "execution_count": 1,
   "id": "3c2ec252-7622-4f3e-9e25-0a376c158c78",
   "metadata": {},
   "outputs": [],
   "source": [
    "from ase.build import molecule\n",
    "from ase.atoms import Atoms\n",
    "import os\n",
    "import subprocess\n",
    "from pathlib import Path "
   ]
  },
  {
   "cell_type": "code",
   "execution_count": 2,
   "id": "2e6c7b96-70c5-4239-9f96-12db232a5bec",
   "metadata": {},
   "outputs": [],
   "source": [
    "name_compounds = ['CH4', 'CH3CH2OH', 'CH3COOH', 'H2O', 'NH3']"
   ]
  },
  {
   "cell_type": "code",
   "execution_count": 3,
   "id": "c5f35e3e-15b3-49c9-9210-2a2ea95d44cd",
   "metadata": {},
   "outputs": [],
   "source": [
    "def create_dir(name: str) -> None:\n",
    "    \"\"\"Crea una carpeta con un nombre dado\"\"\"\n",
    "    try:\n",
    "        os.mkdir(name)\n",
    "        print(f\"directory {name} is ready\")\n",
    "    except OSError as error:\n",
    "        print(f\"Error creating directory '{name}' : {error}\")"
   ]
  },
  {
   "cell_type": "code",
   "execution_count": 4,
   "id": "84d028f2-6c9b-47a9-922e-ba8e1dc1857b",
   "metadata": {},
   "outputs": [],
   "source": [
    "def create_molecule(name: str) -> Atoms:\n",
    "    result: Atoms = molecule(name, cell=[8, 8, 8])\n",
    "    # Centrar la molécula en la celda para evitar que quede en un borde.\n",
    "    result.center()\n",
    "\n",
    "    chemical_formula = result.get_chemical_formula()\n",
    "\n",
    "    # crear la carpeta\n",
    "    create_dir(chemical_formula)\n",
    "    return result"
   ]
  },
  {
   "cell_type": "code",
   "execution_count": 5,
   "id": "bf7f82b6-490c-4ed8-b8a1-1db806ab2d4d",
   "metadata": {},
   "outputs": [
    {
     "name": "stdout",
     "output_type": "stream",
     "text": [
      "directory CH4 is ready\n",
      "directory C2H6O is ready\n",
      "directory C2H4O2 is ready\n",
      "directory H2O is ready\n",
      "directory H3N is ready\n"
     ]
    }
   ],
   "source": [
    "compounds = [create_molecule(i) for i in name_compounds]"
   ]
  },
  {
   "cell_type": "code",
   "execution_count": 6,
   "id": "ded8b81a-5e25-421e-8703-9410d8f4af91",
   "metadata": {},
   "outputs": [],
   "source": [
    "def write_xyz(molecule: Atoms) -> None:\n",
    "    chemical_formula = molecule.get_chemical_formula()\n",
    "\n",
    "    create_dir(chemical_formula)\n",
    "\n",
    "    molecule.write(f'{chemical_formula}/{chemical_formula}.xyz')"
   ]
  },
  {
   "cell_type": "code",
   "execution_count": 7,
   "id": "2ca94b38-2d15-4914-a9be-1ba9d7f3dad6",
   "metadata": {},
   "outputs": [
    {
     "name": "stdout",
     "output_type": "stream",
     "text": [
      "Error creating directory 'CH4' : [Errno 17] File exists: 'CH4'\n",
      "Error creating directory 'C2H6O' : [Errno 17] File exists: 'C2H6O'\n",
      "Error creating directory 'C2H4O2' : [Errno 17] File exists: 'C2H4O2'\n",
      "Error creating directory 'H2O' : [Errno 17] File exists: 'H2O'\n",
      "Error creating directory 'H3N' : [Errno 17] File exists: 'H3N'\n"
     ]
    }
   ],
   "source": [
    "for i in compounds:\n",
    "    write_xyz(i)"
   ]
  },
  {
   "cell_type": "markdown",
   "id": "98f10537-88ee-4f90-8c7a-e97f62edaffd",
   "metadata": {},
   "source": [
    "## Optimización con xtb\n",
    "```\n",
    "xtb file.xyz --opt\n",
    "```"
   ]
  },
  {
   "cell_type": "markdown",
   "id": "bac91b4f-8a5d-4a9d-8852-a8f439e315b5",
   "metadata": {
    "scrolled": true
   },
   "source": [
    "## Calculo de frecuencias con xtb\n",
    "```\n",
    "xtb xtbopt.xyz --hess\n",
    "```\n",
    "esto calculo la matriz hessiana (frecuencias vibracionales).\n",
    "- `vibspectrum`: espectro de frecuencias"
   ]
  },
  {
   "cell_type": "markdown",
   "id": "7273a60b-f6a0-495d-83ea-6dade4a2a0ec",
   "metadata": {},
   "source": [
    "## HOMO y LUMO con `Multiwfn`\n",
    "```\n",
    "xtb xtbopt.xyz --gfn 2 --wfn wfn.xtb --molden > file.log\n",
    "```\n",
    "- `--gfn 2`: (Generación de Funcionales Numéricos 2), una versión más precisa del modelo semiempírico desarrollado por el grupo de Grimme.\n",
    "- `--wfn wfn.xtb`: Le dice a xTB que guarde el archivo de función de onda (wfn.xtb), que contiene los orbitales moleculares, ocupaciones, energías, etc.\n",
    "- `--molden`: Genera un archivo .molden, que es un formato estandarizado para visualizar orbitales moleculares y densidades electrónicas.\n",
    "\n",
    "```\n",
    "Multiwfn molden.input\n",
    "```\n",
    "*primera opción (0)*"
   ]
  },
  {
   "cell_type": "code",
   "execution_count": null,
   "id": "70965934-d415-4646-9c5d-9f219f1d5709",
   "metadata": {},
   "outputs": [],
   "source": []
  }
 ],
 "metadata": {
  "kernelspec": {
   "display_name": "Python 3.9 (GPAW)",
   "language": "python",
   "name": "gpaw_env"
  },
  "language_info": {
   "codemirror_mode": {
    "name": "ipython",
    "version": 3
   },
   "file_extension": ".py",
   "mimetype": "text/x-python",
   "name": "python",
   "nbconvert_exporter": "python",
   "pygments_lexer": "ipython3",
   "version": "3.9.18"
  }
 },
 "nbformat": 4,
 "nbformat_minor": 5
}
