{
 "cells": [
  {
   "cell_type": "markdown",
   "id": "7c3a8f20-7387-4bf0-a83d-562bc606e90f",
   "metadata": {},
   "source": [
    "|Compuesto|CID|Usos del compuesto|\n",
    "|---|---|---|\n",
    "|Metano ($CH_4$)|297|Es el componente principal del **gas natural**. Lo utilizamos en nuestros hogares para cocinar en estufas, calentar agua y calefacción.|\n",
    "|Etanol ($CH_3CH_2OH$)|702|Comúnmente conocido como **alcohol etilico**. Lo encontramos en: bebidas alcohólicas, desinfectantes, perfumes y productos de cuidado personal|\n",
    "|Ácido Acético ($CH_3COOH$)|176|Es el principal componente del **vinagre**. Lo usamos en la cocina para: aderezar ensaladas, encurtir alimentos.|\n"
   ]
  },
  {
   "cell_type": "code",
   "execution_count": 1,
   "id": "78265b7d-84c5-439d-8b07-1879b2a2fab7",
   "metadata": {},
   "outputs": [],
   "source": [
    "# molecule de ase.build permite crear moleculas. Recibe el nombre de la molecula y las dimensiones de la celda\n",
    "from ase.build import molecule\n",
    "\n",
    "# Esta importación es para especificar el tipo de datos Atoms de ase (opcional)\n",
    "from ase.atoms import Atoms\n",
    "\n",
    "# Se importa el algoritmo de optmización BFGS (Broyden-Fletcher-Goldfarb-Shanno). Se usar para minimizar la energía de la molécula.\n",
    "from ase.optimize import BFGS\n",
    "\n",
    "# Se importa el motor de cálculo GPAW, con este se va a calcular la energía y fuerzas para la molecula (DFT)\n",
    "from gpaw import GPAW\n",
    "\n",
    "# módulo de python para interactual con el sistema operativo (se usa paracrear las carpetas)\n",
    "import os"
   ]
  },
  {
   "cell_type": "code",
   "execution_count": 2,
   "id": "c9bdb364-6b00-43ce-8d51-e8c9fbc60dd9",
   "metadata": {},
   "outputs": [],
   "source": [
    " def create_dir(name) -> None:\n",
    "    \"\"\"Crea una carpeta con un nombre dado\"\"\"\n",
    "    try:\n",
    "        os.mkdir(name)\n",
    "        print(f\"directory {name} is ready\")\n",
    "    except OSError as error:\n",
    "        print(f\"Error creating directory '{name}' : {error}\")"
   ]
  },
  {
   "cell_type": "code",
   "execution_count": 3,
   "id": "dd6a71a9-f314-4526-a8bc-ec9f831f47b4",
   "metadata": {},
   "outputs": [],
   "source": [
    "def create_molecule(name: str):\n",
    "    result: Atoms = molecule(name, cell=[8, 8, 8])\n",
    "    # Centrar la molécula en la celda para evitar que quede en un borde.\n",
    "    result.center()\n",
    "\n",
    "    chemical_formula = result.get_chemical_formula()\n",
    "\n",
    "    # crear la carpeta\n",
    "    create_dir(chemical_formula)\n",
    "\n",
    "    # Asigna el calculador GPAW a la molecula\n",
    "    result.calc = GPAW(\n",
    "        # funcional de intercambio (PBE)\n",
    "        xc=\"PBE\",\n",
    "\n",
    "        # método de cálculo basado en orbitales lineales combinados\n",
    "        mode=\"lcao\",\n",
    "\n",
    "        # base de datos zeta polarizada\n",
    "        basis=\"dzp\",\n",
    "\n",
    "        # archivo donde se guardn los resultados del cálculo\n",
    "        txt=f\"{chemical_formula}/{chemical_formula}.txt\",\n",
    "    )\n",
    "\n",
    "    # retorna el objeto Atoms anteriormente configurado\n",
    "    return result"
   ]
  },
  {
   "cell_type": "code",
   "execution_count": 4,
   "id": "dbb860b1-7c47-48ac-af7f-c1ad3183ff88",
   "metadata": {},
   "outputs": [],
   "source": [
    "name_compounds = ['CH4', 'CH3CH2OH', 'CH3COOH']"
   ]
  },
  {
   "cell_type": "code",
   "execution_count": 5,
   "id": "e5276ebf-fd45-4347-9195-b24e6c035f8d",
   "metadata": {},
   "outputs": [
    {
     "name": "stdout",
     "output_type": "stream",
     "text": [
      "Error creating directory 'CH4' : [Errno 17] File exists: 'CH4'\n"
     ]
    },
    {
     "name": "stderr",
     "output_type": "stream",
     "text": [
      "[archlinux:03793] mca_base_component_repository_open: unable to open mca_btl_openib: librdmacm.so.1: cannot open shared object file: No such file or directory (ignored)\n"
     ]
    },
    {
     "name": "stdout",
     "output_type": "stream",
     "text": [
      "Error creating directory 'C2H6O' : [Errno 17] File exists: 'C2H6O'\n",
      "Error creating directory 'C2H4O2' : [Errno 17] File exists: 'C2H4O2'\n"
     ]
    }
   ],
   "source": [
    "compounds = [create_molecule(i) for i in name_compounds]"
   ]
  },
  {
   "cell_type": "code",
   "execution_count": 6,
   "id": "39f879e4-d959-4ba2-be67-1c7081be136f",
   "metadata": {},
   "outputs": [],
   "source": [
    "def relax_molecule(molecule: Atoms) -> None:\n",
    "    chemical_formula = molecule.get_chemical_formula()\n",
    "    # se asegura que la carpeta exista\n",
    "    create_dir(chemical_formula)\n",
    "\n",
    "    # Crea un objeto optimizador que minimiza la energía total\n",
    "    relax = BFGS(\n",
    "        # se pasa la molecula para optimizar\n",
    "        molecule,\n",
    "        \n",
    "        # archivo de texto con el registro del proceso de relajación\n",
    "        logfile=f\"{chemical_formula}/{chemical_formula}_calc.txt\",\n",
    "        \n",
    "        # archivo donde se guarda la evolución de la estructura durante la relajación\n",
    "        trajectory=f\"{chemical_formula}/{chemical_formula}_calc.traj\",\n",
    "    )\n",
    "\n",
    "    # Ejecuta la relajación hasta que las fuerzas sobre todos los átomos sean menores a 0.05 eV/A.\n",
    "    relax.run(fmax=0.05)"
   ]
  },
  {
   "cell_type": "code",
   "execution_count": null,
   "id": "0056c8c6-5c95-451c-bc95-a61db68b8245",
   "metadata": {},
   "outputs": [
    {
     "name": "stdout",
     "output_type": "stream",
     "text": [
      "Error creating directory 'CH4' : [Errno 17] File exists: 'CH4'\n",
      "Error creating directory 'C2H6O' : [Errno 17] File exists: 'C2H6O'\n"
     ]
    }
   ],
   "source": [
    "for i in compounds:\n",
    "    relax_molecule(i)"
   ]
  }
 ],
 "metadata": {
  "kernelspec": {
   "display_name": "Python 3.9 (GPAW)",
   "language": "python",
   "name": "gpaw_env"
  },
  "language_info": {
   "codemirror_mode": {
    "name": "ipython",
    "version": 3
   },
   "file_extension": ".py",
   "mimetype": "text/x-python",
   "name": "python",
   "nbconvert_exporter": "python",
   "pygments_lexer": "ipython3",
   "version": "3.9.18"
  }
 },
 "nbformat": 4,
 "nbformat_minor": 5
}
